{
 "cells": [
  {
   "cell_type": "markdown",
   "metadata": {},
   "source": [
    "# Medium Articles Analysis"
   ]
  },
  {
   "cell_type": "code",
   "execution_count": 169,
   "metadata": {},
   "outputs": [],
   "source": [
    "#Import packages\n",
    "import pandas as pd\n",
    "import numpy as np\n",
    "import matplotlib.pyplot as plt"
   ]
  },
  {
   "cell_type": "code",
   "execution_count": 170,
   "metadata": {},
   "outputs": [
    {
     "data": {
      "text/html": [
       "<div>\n",
       "<style scoped>\n",
       "    .dataframe tbody tr th:only-of-type {\n",
       "        vertical-align: middle;\n",
       "    }\n",
       "\n",
       "    .dataframe tbody tr th {\n",
       "        vertical-align: top;\n",
       "    }\n",
       "\n",
       "    .dataframe thead th {\n",
       "        text-align: right;\n",
       "    }\n",
       "</style>\n",
       "<table border=\"1\" class=\"dataframe\">\n",
       "  <thead>\n",
       "    <tr style=\"text-align: right;\">\n",
       "      <th></th>\n",
       "      <th>title</th>\n",
       "      <th>author</th>\n",
       "      <th>publication</th>\n",
       "      <th>date</th>\n",
       "      <th>duration</th>\n",
       "      <th>claps</th>\n",
       "      <th>tags_cleaned</th>\n",
       "    </tr>\n",
       "  </thead>\n",
       "  <tbody>\n",
       "    <tr>\n",
       "      <th>0</th>\n",
       "      <td>The Three Bay Areas</td>\n",
       "      <td>keith a. spencer</td>\n",
       "      <td>the bold italic</td>\n",
       "      <td>13-Mar-17</td>\n",
       "      <td>10</td>\n",
       "      <td>7400</td>\n",
       "      <td>san-francisco,tech,politics,humor,this-just-in</td>\n",
       "    </tr>\n",
       "    <tr>\n",
       "      <th>1</th>\n",
       "      <td>The First Gene-Edited Squid in History Is a Bi...</td>\n",
       "      <td>emily mullin</td>\n",
       "      <td>onezero</td>\n",
       "      <td>11-Aug</td>\n",
       "      <td>5</td>\n",
       "      <td>1100</td>\n",
       "      <td>,reengineering-life,science,gene-editing,neuro...</td>\n",
       "    </tr>\n",
       "    <tr>\n",
       "      <th>2</th>\n",
       "      <td>The Gig Economy Is Failing. Say Hello to the H...</td>\n",
       "      <td>caitlin dewey</td>\n",
       "      <td>onezero</td>\n",
       "      <td>29-Jul</td>\n",
       "      <td>12</td>\n",
       "      <td>5100</td>\n",
       "      <td>gig-economy,economy,tech,digital-life,business</td>\n",
       "    </tr>\n",
       "    <tr>\n",
       "      <th>3</th>\n",
       "      <td>10 Bizarre Money Habits Making Millennials Richer</td>\n",
       "      <td>refinery29 uk</td>\n",
       "      <td>refinery29</td>\n",
       "      <td>7-Aug</td>\n",
       "      <td>4</td>\n",
       "      <td>3800</td>\n",
       "      <td>money,saving,saving-money,millennials,hacks</td>\n",
       "    </tr>\n",
       "    <tr>\n",
       "      <th>4</th>\n",
       "      <td>Google's Remote Work Policy Has 9 Great Tips Y...</td>\n",
       "      <td>inc. magazine</td>\n",
       "      <td>inc magazine</td>\n",
       "      <td>4-Aug</td>\n",
       "      <td>5</td>\n",
       "      <td>4200</td>\n",
       "      <td>remote-working,work,google</td>\n",
       "    </tr>\n",
       "    <tr>\n",
       "      <th>...</th>\n",
       "      <td>...</td>\n",
       "      <td>...</td>\n",
       "      <td>...</td>\n",
       "      <td>...</td>\n",
       "      <td>...</td>\n",
       "      <td>...</td>\n",
       "      <td>...</td>\n",
       "    </tr>\n",
       "    <tr>\n",
       "      <th>2696</th>\n",
       "      <td>Decapitating Consciousness</td>\n",
       "      <td>robert epstein</td>\n",
       "      <td>the awl</td>\n",
       "      <td>6-Mar-17</td>\n",
       "      <td>16</td>\n",
       "      <td>1700</td>\n",
       "      <td>consciousness,brain,neuroscience,science,edito...</td>\n",
       "    </tr>\n",
       "    <tr>\n",
       "      <th>2697</th>\n",
       "      <td>A Career Retrospective—10 years working in tech</td>\n",
       "      <td>sailor mercury</td>\n",
       "      <td>No Publication</td>\n",
       "      <td>6-Mar-17</td>\n",
       "      <td>17</td>\n",
       "      <td>3200</td>\n",
       "      <td>machine-learning,artificial-intelligence,techn...</td>\n",
       "    </tr>\n",
       "    <tr>\n",
       "      <th>2698</th>\n",
       "      <td>How reader engagement helped unearth the Shell...</td>\n",
       "      <td>ernst pfauth</td>\n",
       "      <td>the correspondent</td>\n",
       "      <td>6-Mar-17</td>\n",
       "      <td>8</td>\n",
       "      <td>599</td>\n",
       "      <td>climate-change,environment,journalism,shell,co...</td>\n",
       "    </tr>\n",
       "    <tr>\n",
       "      <th>2699</th>\n",
       "      <td>A History and Future of the Rise of the Robots</td>\n",
       "      <td>r. david dixon jr.</td>\n",
       "      <td>hackernoon.com</td>\n",
       "      <td>4-Mar-17</td>\n",
       "      <td>14</td>\n",
       "      <td>971</td>\n",
       "      <td>technology,future,technology,basic-income,futu...</td>\n",
       "    </tr>\n",
       "    <tr>\n",
       "      <th>2700</th>\n",
       "      <td>Hype Driven Development</td>\n",
       "      <td>marek kirejczyk</td>\n",
       "      <td>daftcode blog</td>\n",
       "      <td>23-Nov-16</td>\n",
       "      <td>9</td>\n",
       "      <td>12300</td>\n",
       "      <td>hype-driven-development,software-development,l...</td>\n",
       "    </tr>\n",
       "  </tbody>\n",
       "</table>\n",
       "<p>2701 rows × 7 columns</p>\n",
       "</div>"
      ],
      "text/plain": [
       "                                                  title              author  \\\n",
       "0                                   The Three Bay Areas    keith a. spencer   \n",
       "1     The First Gene-Edited Squid in History Is a Bi...        emily mullin   \n",
       "2     The Gig Economy Is Failing. Say Hello to the H...       caitlin dewey   \n",
       "3     10 Bizarre Money Habits Making Millennials Richer       refinery29 uk   \n",
       "4     Google's Remote Work Policy Has 9 Great Tips Y...       inc. magazine   \n",
       "...                                                 ...                 ...   \n",
       "2696                         Decapitating Consciousness      robert epstein   \n",
       "2697    A Career Retrospective—10 years working in tech      sailor mercury   \n",
       "2698  How reader engagement helped unearth the Shell...        ernst pfauth   \n",
       "2699     A History and Future of the Rise of the Robots  r. david dixon jr.   \n",
       "2700                            Hype Driven Development     marek kirejczyk   \n",
       "\n",
       "            publication       date  duration  claps  \\\n",
       "0       the bold italic  13-Mar-17        10   7400   \n",
       "1               onezero     11-Aug         5   1100   \n",
       "2               onezero     29-Jul        12   5100   \n",
       "3            refinery29      7-Aug         4   3800   \n",
       "4          inc magazine      4-Aug         5   4200   \n",
       "...                 ...        ...       ...    ...   \n",
       "2696            the awl   6-Mar-17        16   1700   \n",
       "2697     No Publication   6-Mar-17        17   3200   \n",
       "2698  the correspondent   6-Mar-17         8    599   \n",
       "2699     hackernoon.com   4-Mar-17        14    971   \n",
       "2700      daftcode blog  23-Nov-16         9  12300   \n",
       "\n",
       "                                           tags_cleaned  \n",
       "0        san-francisco,tech,politics,humor,this-just-in  \n",
       "1     ,reengineering-life,science,gene-editing,neuro...  \n",
       "2        gig-economy,economy,tech,digital-life,business  \n",
       "3           money,saving,saving-money,millennials,hacks  \n",
       "4                            remote-working,work,google  \n",
       "...                                                 ...  \n",
       "2696  consciousness,brain,neuroscience,science,edito...  \n",
       "2697  machine-learning,artificial-intelligence,techn...  \n",
       "2698  climate-change,environment,journalism,shell,co...  \n",
       "2699  technology,future,technology,basic-income,futu...  \n",
       "2700  hype-driven-development,software-development,l...  \n",
       "\n",
       "[2701 rows x 7 columns]"
      ]
     },
     "execution_count": 170,
     "metadata": {},
     "output_type": "execute_result"
    }
   ],
   "source": [
    "#load the data\n",
    "medium_df=pd.read_csv(\"medium_data.csv\",index_col=[0])\n",
    "medium_df"
   ]
  },
  {
   "cell_type": "code",
   "execution_count": 161,
   "metadata": {},
   "outputs": [
    {
     "data": {
      "text/plain": [
       "title           0\n",
       "author          0\n",
       "publication     0\n",
       "date            0\n",
       "duration        0\n",
       "clap            0\n",
       "claps           0\n",
       "tag             0\n",
       "tags_cleaned    0\n",
       "dtype: int64"
      ]
     },
     "execution_count": 161,
     "metadata": {},
     "output_type": "execute_result"
    }
   ],
   "source": [
    "#Verify if we have any null values\n",
    "meduim_df.isna().sum()"
   ]
  },
  {
   "cell_type": "code",
   "execution_count": 162,
   "metadata": {},
   "outputs": [],
   "source": [
    "#verify if we have any duplicated data\n",
    "medium_df.duplicated().sum()"
   ]
  },
  {
   "cell_type": "markdown",
   "metadata": {},
   "source": [
    "# 1. Analysis"
   ]
  },
  {
   "cell_type": "markdown",
   "metadata": {},
   "source": [
    "# 1.0. Data"
   ]
  },
  {
   "cell_type": "code",
   "execution_count": 165,
   "metadata": {},
   "outputs": [
    {
     "name": "stdout",
     "output_type": "stream",
     "text": [
      "No.of unqiue Articles :  2701\n",
      "No.of unique Publications in our data :  335\n",
      "No.of unique Authors in our data :  1597\n",
      "No.of unique Tags in our data :  2538\n"
     ]
    }
   ],
   "source": [
    "print(\"No.of unqiue Articles : \",medium_df.shape[0])\n",
    "print(\"No.of unique Publications in our data : \",medium_df.publication.nunique())\n",
    "print(\"No.of unique Authors in our data : \",medium_df.author.nunique())\n",
    "print(\"No.of unique Tags in our data : \",tags_df[\"tags\"].nunique())   # this is taken from the data frame created 1.6 section"
   ]
  },
  {
   "cell_type": "markdown",
   "metadata": {},
   "source": [
    "## 1.1. Claps"
   ]
  },
  {
   "cell_type": "code",
   "execution_count": 69,
   "metadata": {},
   "outputs": [
    {
     "data": {
      "image/png": "[encoded data removed]",
      "text/plain": [
       "<Figure size 1440x360 with 1 Axes>"
      ]
     },
     "metadata": {
      "needs_background": "light"
     },
     "output_type": "display_data"
    }
   ],
   "source": [
    "claps={}\n",
    "claps=medium_df[\"claps\"].describe()[[\"count\",\"mean\",\"50%\",\"min\",\"max\"]]\n",
    "plt.figure(figsize=(20,5))\n",
    "plt.barh(claps.keys(),claps.values)\n",
    "plt.yticks(fontsize=(15))\n",
    "for i,v in  enumerate(claps.values):\n",
    "    plt.text( v+0.5 ,i-0.1 , str(int(v)), color='black',fontsize=14)"
   ]
  },
  {
   "cell_type": "markdown",
   "metadata": {},
   "source": [
    "## Observations:\n",
    "1. We have a total of 2701 records.\n",
    "2. Mean(Average) of the claps is 12988 and Median(50%) of the claps is 6400 it is still a really big number.\n",
    "3. Minimum claps in our data for a single article is 295 whereas maximum is ooping 305,000."
   ]
  },
  {
   "cell_type": "markdown",
   "metadata": {},
   "source": [
    "## 1.2. What should be the length of the article?"
   ]
  },
  {
   "cell_type": "code",
   "execution_count": 70,
   "metadata": {},
   "outputs": [
    {
     "data": {
      "image/png": "[encoded data removed]",
      "text/plain": [
       "<Figure size 432x504 with 1 Axes>"
      ]
     },
     "metadata": {
      "needs_background": "light"
     },
     "output_type": "display_data"
    }
   ],
   "source": [
    "length={}\n",
    "length=medium_df[\"duration\"].describe()[[\"mean\",\"50%\",\"min\",\"max\"]]\n",
    "plt.figure(figsize=(6,7))\n",
    "plt.bar(length.keys(),length.values)\n",
    "plt.xticks(fontsize=(13))\n",
    "for i,v in  enumerate(length.values):\n",
    "    plt.text( i-0.1,v+0.5, str(int(v)), color='black',fontsize=15)"
   ]
  },
  {
   "cell_type": "code",
   "execution_count": 71,
   "metadata": {},
   "outputs": [
    {
     "data": {
      "image/png": "[encoded data removed]",
      "text/plain": [
       "<Figure size 1080x576 with 1 Axes>"
      ]
     },
     "metadata": {
      "needs_background": "light"
     },
     "output_type": "display_data"
    }
   ],
   "source": [
    "plt.figure(figsize=(15,8))\n",
    "medium_df[\"duration\"].value_counts()[:10].plot(kind=\"bar\")\n",
    "plt.xticks(rotation=0,fontsize=13)\n",
    "for i,v in  enumerate(medium_df[\"duration\"].value_counts()[:10]):\n",
    "    plt.text( i-0.1,v+1, str(int(v)), color='black',fontsize=15)"
   ]
  },
  {
   "cell_type": "markdown",
   "metadata": {},
   "source": [
    "### Obseravtions:\n",
    "1. We have a total of 2701 blogs out of which 1 min is the least and 116mins is the longest. Of course these are outliers.\n",
    "2. Mean is 8 mins read time and median is 7 min read time. From the secondfigure we cam observe that almost 80% of the articles are under 10 mins. This clearly shows that an ideal would be 4-10 min read time.\n",
    "3. Though when we are trying to write on any detailed matter and if a small blog does not do the justice then we can try to trim your blog and remove unncessary stuff to make it more readable this way we can keep it in control covering all the necessary stuff."
   ]
  },
  {
   "cell_type": "markdown",
   "metadata": {},
   "source": [
    "### 1.3. Does Day of Publishing has any effect?"
   ]
  },
  {
   "cell_type": "code",
   "execution_count": 72,
   "metadata": {},
   "outputs": [
    {
     "data": {
      "image/png": "[encoded data removed]",
      "text/plain": [
       "<Figure size 936x432 with 1 Axes>"
      ]
     },
     "metadata": {
      "needs_background": "light"
     },
     "output_type": "display_data"
    }
   ],
   "source": [
    "from dateutil import parser\n",
    "medium_df.date=[parser.parse(dd).strftime(\"%A\") for dd in medium_df.date]\n",
    "plt.figure(figsize=(13,6))\n",
    "medium_df.date.value_counts().plot(kind=\"bar\")\n",
    "plt.xticks(rotation=45,fontsize=13)\n",
    "for i,v in  enumerate(medium_df[\"date\"].value_counts()[:10]):\n",
    "    plt.text( i-0.1,v+1, str(int(v)), color='black',fontsize=15)"
   ]
  },
  {
   "cell_type": "markdown",
   "metadata": {},
   "source": [
    "### Observations:\n",
    "1. We can see most of the blogs are published on week days. Monday being the most and sunday is with the least.\n",
    "2. There is a significant drop in weekends."
   ]
  },
  {
   "cell_type": "markdown",
   "metadata": {},
   "source": [
    "### 1.4. Authors with more popular articles?"
   ]
  },
  {
   "cell_type": "code",
   "execution_count": 73,
   "metadata": {},
   "outputs": [
    {
     "data": {
      "image/png": "[encoded data removed]",
      "text/plain": [
       "<Figure size 936x504 with 1 Axes>"
      ]
     },
     "metadata": {
      "needs_background": "light"
     },
     "output_type": "display_data"
    }
   ],
   "source": [
    "plt.figure(figsize=(13,7))\n",
    "medium_df.author.value_counts()[:10].plot(kind=\"bar\")\n",
    "plt.xticks(rotation=45,fontsize=13)\n",
    "for i,v in  enumerate(medium_df.author.value_counts()[:10]):\n",
    "    plt.text( i-0.1,v+.1, str(int(v)), color='black',fontsize=15)"
   ]
  },
  {
   "cell_type": "markdown",
   "metadata": {},
   "source": [
    "### Observations:\n",
    "1. We can see that kris gage tops the list, actually this list might not be accurate because with little change in data, the outcome might change.\n"
   ]
  },
  {
   "cell_type": "markdown",
   "metadata": {},
   "source": [
    "### 1.5. Does publishing from Publication helps?"
   ]
  },
  {
   "cell_type": "code",
   "execution_count": 84,
   "metadata": {},
   "outputs": [
    {
     "data": {
      "image/png": "[encoded data removed]",
      "text/plain": [
       "<Figure size 936x576 with 1 Axes>"
      ]
     },
     "metadata": {
      "needs_background": "light"
     },
     "output_type": "display_data"
    }
   ],
   "source": [
    "plt.figure(figsize=(13,8))\n",
    "medium_df.publication.value_counts()[:20].plot(kind=\"barh\")\n",
    "plt.yticks(rotation=0,fontsize=13)\n",
    "for i,v in  enumerate(medium_df.publication.value_counts()[:10]):\n",
    "    plt.text( v+.1,i+0.1, str(int(v)), color='black',fontsize=15)\n",
    "plt.gca().invert_yaxis()"
   ]
  },
  {
   "cell_type": "markdown",
   "metadata": {},
   "source": [
    "### 1.6. Popular Tags?"
   ]
  },
  {
   "cell_type": "code",
   "execution_count": 75,
   "metadata": {},
   "outputs": [
    {
     "name": "stdout",
     "output_type": "stream",
     "text": [
      "(2701, 2538)\n"
     ]
    },
    {
     "name": "stderr",
     "output_type": "stream",
     "text": [
      "C:\\Users\\kumarb12\\Anaconda3\\lib\\site-packages\\sklearn\\feature_extraction\\text.py:507: UserWarning: The parameter 'token_pattern' will not be used since 'tokenizer' is not None'\n",
      "  warnings.warn(\"The parameter 'token_pattern' will not be used\"\n"
     ]
    },
    {
     "data": {
      "text/html": [
       "<div>\n",
       "<style scoped>\n",
       "    .dataframe tbody tr th:only-of-type {\n",
       "        vertical-align: middle;\n",
       "    }\n",
       "\n",
       "    .dataframe tbody tr th {\n",
       "        vertical-align: top;\n",
       "    }\n",
       "\n",
       "    .dataframe thead th {\n",
       "        text-align: right;\n",
       "    }\n",
       "</style>\n",
       "<table border=\"1\" class=\"dataframe\">\n",
       "  <thead>\n",
       "    <tr style=\"text-align: right;\">\n",
       "      <th></th>\n",
       "      <th></th>\n",
       "      <th>100daysofmotion</th>\n",
       "      <th>1984</th>\n",
       "      <th>2016-election</th>\n",
       "      <th>2018</th>\n",
       "      <th>2020</th>\n",
       "      <th>2020-presidential-race</th>\n",
       "      <th>2069</th>\n",
       "      <th>3d</th>\n",
       "      <th>8chan</th>\n",
       "      <th>...</th>\n",
       "      <th>yewande-komolafe</th>\n",
       "      <th>yoga</th>\n",
       "      <th>young-people</th>\n",
       "      <th>youth</th>\n",
       "      <th>youth-now</th>\n",
       "      <th>youtube</th>\n",
       "      <th>zeplin</th>\n",
       "      <th>zoom</th>\n",
       "      <th>zuckerberg</th>\n",
       "      <th>zyrtec</th>\n",
       "    </tr>\n",
       "  </thead>\n",
       "  <tbody>\n",
       "    <tr>\n",
       "      <th>0</th>\n",
       "      <td>0</td>\n",
       "      <td>0</td>\n",
       "      <td>0</td>\n",
       "      <td>0</td>\n",
       "      <td>0</td>\n",
       "      <td>0</td>\n",
       "      <td>0</td>\n",
       "      <td>0</td>\n",
       "      <td>0</td>\n",
       "      <td>0</td>\n",
       "      <td>...</td>\n",
       "      <td>0</td>\n",
       "      <td>0</td>\n",
       "      <td>0</td>\n",
       "      <td>0</td>\n",
       "      <td>0</td>\n",
       "      <td>0</td>\n",
       "      <td>0</td>\n",
       "      <td>0</td>\n",
       "      <td>0</td>\n",
       "      <td>0</td>\n",
       "    </tr>\n",
       "    <tr>\n",
       "      <th>1</th>\n",
       "      <td>1</td>\n",
       "      <td>0</td>\n",
       "      <td>0</td>\n",
       "      <td>0</td>\n",
       "      <td>0</td>\n",
       "      <td>0</td>\n",
       "      <td>0</td>\n",
       "      <td>0</td>\n",
       "      <td>0</td>\n",
       "      <td>0</td>\n",
       "      <td>...</td>\n",
       "      <td>0</td>\n",
       "      <td>0</td>\n",
       "      <td>0</td>\n",
       "      <td>0</td>\n",
       "      <td>0</td>\n",
       "      <td>0</td>\n",
       "      <td>0</td>\n",
       "      <td>0</td>\n",
       "      <td>0</td>\n",
       "      <td>0</td>\n",
       "    </tr>\n",
       "    <tr>\n",
       "      <th>2</th>\n",
       "      <td>0</td>\n",
       "      <td>0</td>\n",
       "      <td>0</td>\n",
       "      <td>0</td>\n",
       "      <td>0</td>\n",
       "      <td>0</td>\n",
       "      <td>0</td>\n",
       "      <td>0</td>\n",
       "      <td>0</td>\n",
       "      <td>0</td>\n",
       "      <td>...</td>\n",
       "      <td>0</td>\n",
       "      <td>0</td>\n",
       "      <td>0</td>\n",
       "      <td>0</td>\n",
       "      <td>0</td>\n",
       "      <td>0</td>\n",
       "      <td>0</td>\n",
       "      <td>0</td>\n",
       "      <td>0</td>\n",
       "      <td>0</td>\n",
       "    </tr>\n",
       "    <tr>\n",
       "      <th>3</th>\n",
       "      <td>0</td>\n",
       "      <td>0</td>\n",
       "      <td>0</td>\n",
       "      <td>0</td>\n",
       "      <td>0</td>\n",
       "      <td>0</td>\n",
       "      <td>0</td>\n",
       "      <td>0</td>\n",
       "      <td>0</td>\n",
       "      <td>0</td>\n",
       "      <td>...</td>\n",
       "      <td>0</td>\n",
       "      <td>0</td>\n",
       "      <td>0</td>\n",
       "      <td>0</td>\n",
       "      <td>0</td>\n",
       "      <td>0</td>\n",
       "      <td>0</td>\n",
       "      <td>0</td>\n",
       "      <td>0</td>\n",
       "      <td>0</td>\n",
       "    </tr>\n",
       "    <tr>\n",
       "      <th>4</th>\n",
       "      <td>0</td>\n",
       "      <td>0</td>\n",
       "      <td>0</td>\n",
       "      <td>0</td>\n",
       "      <td>0</td>\n",
       "      <td>0</td>\n",
       "      <td>0</td>\n",
       "      <td>0</td>\n",
       "      <td>0</td>\n",
       "      <td>0</td>\n",
       "      <td>...</td>\n",
       "      <td>0</td>\n",
       "      <td>0</td>\n",
       "      <td>0</td>\n",
       "      <td>0</td>\n",
       "      <td>0</td>\n",
       "      <td>0</td>\n",
       "      <td>0</td>\n",
       "      <td>0</td>\n",
       "      <td>0</td>\n",
       "      <td>0</td>\n",
       "    </tr>\n",
       "    <tr>\n",
       "      <th>...</th>\n",
       "      <td>...</td>\n",
       "      <td>...</td>\n",
       "      <td>...</td>\n",
       "      <td>...</td>\n",
       "      <td>...</td>\n",
       "      <td>...</td>\n",
       "      <td>...</td>\n",
       "      <td>...</td>\n",
       "      <td>...</td>\n",
       "      <td>...</td>\n",
       "      <td>...</td>\n",
       "      <td>...</td>\n",
       "      <td>...</td>\n",
       "      <td>...</td>\n",
       "      <td>...</td>\n",
       "      <td>...</td>\n",
       "      <td>...</td>\n",
       "      <td>...</td>\n",
       "      <td>...</td>\n",
       "      <td>...</td>\n",
       "      <td>...</td>\n",
       "    </tr>\n",
       "    <tr>\n",
       "      <th>2696</th>\n",
       "      <td>0</td>\n",
       "      <td>0</td>\n",
       "      <td>0</td>\n",
       "      <td>0</td>\n",
       "      <td>0</td>\n",
       "      <td>0</td>\n",
       "      <td>0</td>\n",
       "      <td>0</td>\n",
       "      <td>0</td>\n",
       "      <td>0</td>\n",
       "      <td>...</td>\n",
       "      <td>0</td>\n",
       "      <td>0</td>\n",
       "      <td>0</td>\n",
       "      <td>0</td>\n",
       "      <td>0</td>\n",
       "      <td>0</td>\n",
       "      <td>0</td>\n",
       "      <td>0</td>\n",
       "      <td>0</td>\n",
       "      <td>0</td>\n",
       "    </tr>\n",
       "    <tr>\n",
       "      <th>2697</th>\n",
       "      <td>0</td>\n",
       "      <td>0</td>\n",
       "      <td>0</td>\n",
       "      <td>0</td>\n",
       "      <td>0</td>\n",
       "      <td>0</td>\n",
       "      <td>0</td>\n",
       "      <td>0</td>\n",
       "      <td>0</td>\n",
       "      <td>0</td>\n",
       "      <td>...</td>\n",
       "      <td>0</td>\n",
       "      <td>0</td>\n",
       "      <td>0</td>\n",
       "      <td>0</td>\n",
       "      <td>0</td>\n",
       "      <td>0</td>\n",
       "      <td>0</td>\n",
       "      <td>0</td>\n",
       "      <td>0</td>\n",
       "      <td>0</td>\n",
       "    </tr>\n",
       "    <tr>\n",
       "      <th>2698</th>\n",
       "      <td>0</td>\n",
       "      <td>0</td>\n",
       "      <td>0</td>\n",
       "      <td>0</td>\n",
       "      <td>0</td>\n",
       "      <td>0</td>\n",
       "      <td>0</td>\n",
       "      <td>0</td>\n",
       "      <td>0</td>\n",
       "      <td>0</td>\n",
       "      <td>...</td>\n",
       "      <td>0</td>\n",
       "      <td>0</td>\n",
       "      <td>0</td>\n",
       "      <td>0</td>\n",
       "      <td>0</td>\n",
       "      <td>0</td>\n",
       "      <td>0</td>\n",
       "      <td>0</td>\n",
       "      <td>0</td>\n",
       "      <td>0</td>\n",
       "    </tr>\n",
       "    <tr>\n",
       "      <th>2699</th>\n",
       "      <td>0</td>\n",
       "      <td>0</td>\n",
       "      <td>0</td>\n",
       "      <td>0</td>\n",
       "      <td>0</td>\n",
       "      <td>0</td>\n",
       "      <td>0</td>\n",
       "      <td>0</td>\n",
       "      <td>0</td>\n",
       "      <td>0</td>\n",
       "      <td>...</td>\n",
       "      <td>0</td>\n",
       "      <td>0</td>\n",
       "      <td>0</td>\n",
       "      <td>0</td>\n",
       "      <td>0</td>\n",
       "      <td>0</td>\n",
       "      <td>0</td>\n",
       "      <td>0</td>\n",
       "      <td>0</td>\n",
       "      <td>0</td>\n",
       "    </tr>\n",
       "    <tr>\n",
       "      <th>2700</th>\n",
       "      <td>0</td>\n",
       "      <td>0</td>\n",
       "      <td>0</td>\n",
       "      <td>0</td>\n",
       "      <td>0</td>\n",
       "      <td>0</td>\n",
       "      <td>0</td>\n",
       "      <td>0</td>\n",
       "      <td>0</td>\n",
       "      <td>0</td>\n",
       "      <td>...</td>\n",
       "      <td>0</td>\n",
       "      <td>0</td>\n",
       "      <td>0</td>\n",
       "      <td>0</td>\n",
       "      <td>0</td>\n",
       "      <td>0</td>\n",
       "      <td>0</td>\n",
       "      <td>0</td>\n",
       "      <td>0</td>\n",
       "      <td>0</td>\n",
       "    </tr>\n",
       "  </tbody>\n",
       "</table>\n",
       "<p>2701 rows × 2538 columns</p>\n",
       "</div>"
      ],
      "text/plain": [
       "         100daysofmotion  1984  2016-election  2018  2020  \\\n",
       "0     0                0     0              0     0     0   \n",
       "1     1                0     0              0     0     0   \n",
       "2     0                0     0              0     0     0   \n",
       "3     0                0     0              0     0     0   \n",
       "4     0                0     0              0     0     0   \n",
       "...  ..              ...   ...            ...   ...   ...   \n",
       "2696  0                0     0              0     0     0   \n",
       "2697  0                0     0              0     0     0   \n",
       "2698  0                0     0              0     0     0   \n",
       "2699  0                0     0              0     0     0   \n",
       "2700  0                0     0              0     0     0   \n",
       "\n",
       "      2020-presidential-race  2069  3d  8chan  ...  yewande-komolafe  yoga  \\\n",
       "0                          0     0   0      0  ...                 0     0   \n",
       "1                          0     0   0      0  ...                 0     0   \n",
       "2                          0     0   0      0  ...                 0     0   \n",
       "3                          0     0   0      0  ...                 0     0   \n",
       "4                          0     0   0      0  ...                 0     0   \n",
       "...                      ...   ...  ..    ...  ...               ...   ...   \n",
       "2696                       0     0   0      0  ...                 0     0   \n",
       "2697                       0     0   0      0  ...                 0     0   \n",
       "2698                       0     0   0      0  ...                 0     0   \n",
       "2699                       0     0   0      0  ...                 0     0   \n",
       "2700                       0     0   0      0  ...                 0     0   \n",
       "\n",
       "      young-people  youth  youth-now  youtube  zeplin  zoom  zuckerberg  \\\n",
       "0                0      0          0        0       0     0           0   \n",
       "1                0      0          0        0       0     0           0   \n",
       "2                0      0          0        0       0     0           0   \n",
       "3                0      0          0        0       0     0           0   \n",
       "4                0      0          0        0       0     0           0   \n",
       "...            ...    ...        ...      ...     ...   ...         ...   \n",
       "2696             0      0          0        0       0     0           0   \n",
       "2697             0      0          0        0       0     0           0   \n",
       "2698             0      0          0        0       0     0           0   \n",
       "2699             0      0          0        0       0     0           0   \n",
       "2700             0      0          0        0       0     0           0   \n",
       "\n",
       "      zyrtec  \n",
       "0          0  \n",
       "1          0  \n",
       "2          0  \n",
       "3          0  \n",
       "4          0  \n",
       "...      ...  \n",
       "2696       0  \n",
       "2697       0  \n",
       "2698       0  \n",
       "2699       0  \n",
       "2700       0  \n",
       "\n",
       "[2701 rows x 2538 columns]"
      ]
     },
     "execution_count": 75,
     "metadata": {},
     "output_type": "execute_result"
    }
   ],
   "source": [
    "def tokens(x):\n",
    "    return x.split(',')\n",
    "from sklearn.feature_extraction.text import CountVectorizer\n",
    "bow_model=CountVectorizer(ngram_range=(1,1),min_df=1, max_features=100000,tokenizer=tokens, token_pattern=\"[a-zA-Z0-9]*\")\n",
    "bow_model.fit(pd.Series(medium_df[\"tags_cleaned\"]))\n",
    "tags_bow=bow_model.transform(medium_df[\"tags_cleaned\"])\n",
    "print(tags_bow.shape)\n",
    "tags_bow_df=pd.DataFrame(tags_bow.toarray(),columns=bow_model.get_feature_names())\n",
    "tags_bow_df"
   ]
  },
  {
   "cell_type": "code",
   "execution_count": 76,
   "metadata": {},
   "outputs": [],
   "source": [
    "for i in tags_bow_df.columns:\n",
    "    tags_bow_df[i]=tags_bow_df[i].sum()\n",
    "    \n",
    "tags_df=tags_bow_df.iloc[:1].transpose().reset_index()\n",
    "tags_df.columns=[\"tags\",\"count\"]\n",
    "tags_df=tags_df.sort_values(\"count\",ascending=False)\n",
    "tags_df_10=tags_df[:10]"
   ]
  },
  {
   "cell_type": "code",
   "execution_count": 77,
   "metadata": {},
   "outputs": [
    {
     "data": {
      "image/png": "[encoded data removed]",
      "text/plain": [
       "<Figure size 1080x576 with 1 Axes>"
      ]
     },
     "metadata": {
      "needs_background": "light"
     },
     "output_type": "display_data"
    }
   ],
   "source": [
    "import seaborn as sns\n",
    "from tqdm import tqdm\n",
    "from bs4 import BeautifulSoup\n",
    "import re\n",
    "import nltk\n",
    "from nltk import word_tokenize \n",
    "\n",
    "plt.figure(figsize=(15,8))\n",
    "sns.barplot(tags_df_10[\"tags\"],tags_df_10[\"count\"])\n",
    "plt.xticks(rotation=45,fontsize=15)\n",
    "for i,v in  enumerate(tags_df_10['count']):\n",
    "    plt.text( i-0.2,v+1, str(int(v)), color='black',fontsize=15)"
   ]
  },
  {
   "cell_type": "markdown",
   "metadata": {},
   "source": [
    "## 1.7. Titles:\n",
    "    "
   ]
  },
  {
   "cell_type": "markdown",
   "metadata": {},
   "source": [
    "### 1.7.1. Title words"
   ]
  },
  {
   "cell_type": "code",
   "execution_count": 78,
   "metadata": {},
   "outputs": [],
   "source": [
    "pre_processed_reviews=[]\n",
    "def text_Preprocessing(reviews):\n",
    "    \n",
    "    \n",
    "    \"\"\" This will clean the text data, remove html tags, remove special characters and then tokenize the reviews to apply Stemmer on each word token.\"\"\"\n",
    "    \n",
    "    pre_processed_reviews=[]\n",
    "    \n",
    "    for review in tqdm(reviews.values):\n",
    "        review= BeautifulSoup(review,'lxml').getText()#remove html tags\n",
    "        #review=re.sub('[^A-Za-z0-9]+',' ',review) #remove special chars\n",
    "        # review=re.sub(\"n't\",\"not\",review)\n",
    "        review=word_tokenize(str(review.lower())) #tokenize the reviews into word tokens\n",
    "        review=' '.join(word for word in review if word not in [\"the\",\"is\",\"of\",\"and\",\"on\",\"in\",\"to\",\"for\",\"it\",\"are\",\"we\"])\n",
    "        pre_processed_reviews.append(review.strip())\n",
    "    return pre_processed_reviews"
   ]
  },
  {
   "cell_type": "code",
   "execution_count": 79,
   "metadata": {},
   "outputs": [
    {
     "name": "stderr",
     "output_type": "stream",
     "text": [
      "100%|█████████████████████████████████████| 2701/2701 [00:04<00:00, 625.49it/s]\n"
     ]
    }
   ],
   "source": [
    "preprocessed_desc=text_Preprocessing(medium_df[\"title\"])\n",
    "medium_df[\"title\"]=preprocessed_desc"
   ]
  },
  {
   "cell_type": "code",
   "execution_count": 80,
   "metadata": {},
   "outputs": [
    {
     "data": {
      "text/html": [
       "<div>\n",
       "<style scoped>\n",
       "    .dataframe tbody tr th:only-of-type {\n",
       "        vertical-align: middle;\n",
       "    }\n",
       "\n",
       "    .dataframe tbody tr th {\n",
       "        vertical-align: top;\n",
       "    }\n",
       "\n",
       "    .dataframe thead th {\n",
       "        text-align: right;\n",
       "    }\n",
       "</style>\n",
       "<table border=\"1\" class=\"dataframe\">\n",
       "  <thead>\n",
       "    <tr style=\"text-align: right;\">\n",
       "      <th></th>\n",
       "      <th>000</th>\n",
       "      <th>10</th>\n",
       "      <th>19</th>\n",
       "      <th>2018</th>\n",
       "      <th>2019</th>\n",
       "      <th>2020</th>\n",
       "      <th>about</th>\n",
       "      <th>actually</th>\n",
       "      <th>advice</th>\n",
       "      <th>after</th>\n",
       "      <th>...</th>\n",
       "      <th>you know</th>\n",
       "      <th>you need</th>\n",
       "      <th>you re</th>\n",
       "      <th>you should</th>\n",
       "      <th>you think</th>\n",
       "      <th>you want</th>\n",
       "      <th>your</th>\n",
       "      <th>your brain</th>\n",
       "      <th>your life</th>\n",
       "      <th>yourself</th>\n",
       "    </tr>\n",
       "  </thead>\n",
       "  <tbody>\n",
       "    <tr>\n",
       "      <th>0</th>\n",
       "      <td>0</td>\n",
       "      <td>0</td>\n",
       "      <td>0</td>\n",
       "      <td>0</td>\n",
       "      <td>0</td>\n",
       "      <td>0</td>\n",
       "      <td>0</td>\n",
       "      <td>0</td>\n",
       "      <td>0</td>\n",
       "      <td>0</td>\n",
       "      <td>...</td>\n",
       "      <td>0</td>\n",
       "      <td>0</td>\n",
       "      <td>0</td>\n",
       "      <td>0</td>\n",
       "      <td>0</td>\n",
       "      <td>0</td>\n",
       "      <td>0</td>\n",
       "      <td>0</td>\n",
       "      <td>0</td>\n",
       "      <td>0</td>\n",
       "    </tr>\n",
       "    <tr>\n",
       "      <th>1</th>\n",
       "      <td>0</td>\n",
       "      <td>0</td>\n",
       "      <td>0</td>\n",
       "      <td>0</td>\n",
       "      <td>0</td>\n",
       "      <td>0</td>\n",
       "      <td>0</td>\n",
       "      <td>0</td>\n",
       "      <td>0</td>\n",
       "      <td>0</td>\n",
       "      <td>...</td>\n",
       "      <td>0</td>\n",
       "      <td>0</td>\n",
       "      <td>0</td>\n",
       "      <td>0</td>\n",
       "      <td>0</td>\n",
       "      <td>0</td>\n",
       "      <td>0</td>\n",
       "      <td>0</td>\n",
       "      <td>0</td>\n",
       "      <td>0</td>\n",
       "    </tr>\n",
       "    <tr>\n",
       "      <th>2</th>\n",
       "      <td>0</td>\n",
       "      <td>0</td>\n",
       "      <td>0</td>\n",
       "      <td>0</td>\n",
       "      <td>0</td>\n",
       "      <td>0</td>\n",
       "      <td>0</td>\n",
       "      <td>0</td>\n",
       "      <td>0</td>\n",
       "      <td>0</td>\n",
       "      <td>...</td>\n",
       "      <td>0</td>\n",
       "      <td>0</td>\n",
       "      <td>0</td>\n",
       "      <td>0</td>\n",
       "      <td>0</td>\n",
       "      <td>0</td>\n",
       "      <td>0</td>\n",
       "      <td>0</td>\n",
       "      <td>0</td>\n",
       "      <td>0</td>\n",
       "    </tr>\n",
       "    <tr>\n",
       "      <th>3</th>\n",
       "      <td>0</td>\n",
       "      <td>1</td>\n",
       "      <td>0</td>\n",
       "      <td>0</td>\n",
       "      <td>0</td>\n",
       "      <td>0</td>\n",
       "      <td>0</td>\n",
       "      <td>0</td>\n",
       "      <td>0</td>\n",
       "      <td>0</td>\n",
       "      <td>...</td>\n",
       "      <td>0</td>\n",
       "      <td>0</td>\n",
       "      <td>0</td>\n",
       "      <td>0</td>\n",
       "      <td>0</td>\n",
       "      <td>0</td>\n",
       "      <td>0</td>\n",
       "      <td>0</td>\n",
       "      <td>0</td>\n",
       "      <td>0</td>\n",
       "    </tr>\n",
       "    <tr>\n",
       "      <th>4</th>\n",
       "      <td>0</td>\n",
       "      <td>0</td>\n",
       "      <td>0</td>\n",
       "      <td>0</td>\n",
       "      <td>0</td>\n",
       "      <td>0</td>\n",
       "      <td>0</td>\n",
       "      <td>0</td>\n",
       "      <td>0</td>\n",
       "      <td>0</td>\n",
       "      <td>...</td>\n",
       "      <td>0</td>\n",
       "      <td>0</td>\n",
       "      <td>0</td>\n",
       "      <td>1</td>\n",
       "      <td>0</td>\n",
       "      <td>0</td>\n",
       "      <td>0</td>\n",
       "      <td>0</td>\n",
       "      <td>0</td>\n",
       "      <td>0</td>\n",
       "    </tr>\n",
       "    <tr>\n",
       "      <th>...</th>\n",
       "      <td>...</td>\n",
       "      <td>...</td>\n",
       "      <td>...</td>\n",
       "      <td>...</td>\n",
       "      <td>...</td>\n",
       "      <td>...</td>\n",
       "      <td>...</td>\n",
       "      <td>...</td>\n",
       "      <td>...</td>\n",
       "      <td>...</td>\n",
       "      <td>...</td>\n",
       "      <td>...</td>\n",
       "      <td>...</td>\n",
       "      <td>...</td>\n",
       "      <td>...</td>\n",
       "      <td>...</td>\n",
       "      <td>...</td>\n",
       "      <td>...</td>\n",
       "      <td>...</td>\n",
       "      <td>...</td>\n",
       "      <td>...</td>\n",
       "    </tr>\n",
       "    <tr>\n",
       "      <th>2696</th>\n",
       "      <td>0</td>\n",
       "      <td>0</td>\n",
       "      <td>0</td>\n",
       "      <td>0</td>\n",
       "      <td>0</td>\n",
       "      <td>0</td>\n",
       "      <td>0</td>\n",
       "      <td>0</td>\n",
       "      <td>0</td>\n",
       "      <td>0</td>\n",
       "      <td>...</td>\n",
       "      <td>0</td>\n",
       "      <td>0</td>\n",
       "      <td>0</td>\n",
       "      <td>0</td>\n",
       "      <td>0</td>\n",
       "      <td>0</td>\n",
       "      <td>0</td>\n",
       "      <td>0</td>\n",
       "      <td>0</td>\n",
       "      <td>0</td>\n",
       "    </tr>\n",
       "    <tr>\n",
       "      <th>2697</th>\n",
       "      <td>0</td>\n",
       "      <td>1</td>\n",
       "      <td>0</td>\n",
       "      <td>0</td>\n",
       "      <td>0</td>\n",
       "      <td>0</td>\n",
       "      <td>0</td>\n",
       "      <td>0</td>\n",
       "      <td>0</td>\n",
       "      <td>0</td>\n",
       "      <td>...</td>\n",
       "      <td>0</td>\n",
       "      <td>0</td>\n",
       "      <td>0</td>\n",
       "      <td>0</td>\n",
       "      <td>0</td>\n",
       "      <td>0</td>\n",
       "      <td>0</td>\n",
       "      <td>0</td>\n",
       "      <td>0</td>\n",
       "      <td>0</td>\n",
       "    </tr>\n",
       "    <tr>\n",
       "      <th>2698</th>\n",
       "      <td>0</td>\n",
       "      <td>0</td>\n",
       "      <td>0</td>\n",
       "      <td>0</td>\n",
       "      <td>0</td>\n",
       "      <td>0</td>\n",
       "      <td>0</td>\n",
       "      <td>0</td>\n",
       "      <td>0</td>\n",
       "      <td>0</td>\n",
       "      <td>...</td>\n",
       "      <td>0</td>\n",
       "      <td>0</td>\n",
       "      <td>0</td>\n",
       "      <td>0</td>\n",
       "      <td>0</td>\n",
       "      <td>0</td>\n",
       "      <td>0</td>\n",
       "      <td>0</td>\n",
       "      <td>0</td>\n",
       "      <td>0</td>\n",
       "    </tr>\n",
       "    <tr>\n",
       "      <th>2699</th>\n",
       "      <td>0</td>\n",
       "      <td>0</td>\n",
       "      <td>0</td>\n",
       "      <td>0</td>\n",
       "      <td>0</td>\n",
       "      <td>0</td>\n",
       "      <td>0</td>\n",
       "      <td>0</td>\n",
       "      <td>0</td>\n",
       "      <td>0</td>\n",
       "      <td>...</td>\n",
       "      <td>0</td>\n",
       "      <td>0</td>\n",
       "      <td>0</td>\n",
       "      <td>0</td>\n",
       "      <td>0</td>\n",
       "      <td>0</td>\n",
       "      <td>0</td>\n",
       "      <td>0</td>\n",
       "      <td>0</td>\n",
       "      <td>0</td>\n",
       "    </tr>\n",
       "    <tr>\n",
       "      <th>2700</th>\n",
       "      <td>0</td>\n",
       "      <td>0</td>\n",
       "      <td>0</td>\n",
       "      <td>0</td>\n",
       "      <td>0</td>\n",
       "      <td>0</td>\n",
       "      <td>0</td>\n",
       "      <td>0</td>\n",
       "      <td>0</td>\n",
       "      <td>0</td>\n",
       "      <td>...</td>\n",
       "      <td>0</td>\n",
       "      <td>0</td>\n",
       "      <td>0</td>\n",
       "      <td>0</td>\n",
       "      <td>0</td>\n",
       "      <td>0</td>\n",
       "      <td>0</td>\n",
       "      <td>0</td>\n",
       "      <td>0</td>\n",
       "      <td>0</td>\n",
       "    </tr>\n",
       "  </tbody>\n",
       "</table>\n",
       "<p>2701 rows × 337 columns</p>\n",
       "</div>"
      ],
      "text/plain": [
       "      000  10  19  2018  2019  2020  about  actually  advice  after  ...  \\\n",
       "0       0   0   0     0     0     0      0         0       0      0  ...   \n",
       "1       0   0   0     0     0     0      0         0       0      0  ...   \n",
       "2       0   0   0     0     0     0      0         0       0      0  ...   \n",
       "3       0   1   0     0     0     0      0         0       0      0  ...   \n",
       "4       0   0   0     0     0     0      0         0       0      0  ...   \n",
       "...   ...  ..  ..   ...   ...   ...    ...       ...     ...    ...  ...   \n",
       "2696    0   0   0     0     0     0      0         0       0      0  ...   \n",
       "2697    0   1   0     0     0     0      0         0       0      0  ...   \n",
       "2698    0   0   0     0     0     0      0         0       0      0  ...   \n",
       "2699    0   0   0     0     0     0      0         0       0      0  ...   \n",
       "2700    0   0   0     0     0     0      0         0       0      0  ...   \n",
       "\n",
       "      you know  you need  you re  you should  you think  you want  your  \\\n",
       "0            0         0       0           0          0         0     0   \n",
       "1            0         0       0           0          0         0     0   \n",
       "2            0         0       0           0          0         0     0   \n",
       "3            0         0       0           0          0         0     0   \n",
       "4            0         0       0           1          0         0     0   \n",
       "...        ...       ...     ...         ...        ...       ...   ...   \n",
       "2696         0         0       0           0          0         0     0   \n",
       "2697         0         0       0           0          0         0     0   \n",
       "2698         0         0       0           0          0         0     0   \n",
       "2699         0         0       0           0          0         0     0   \n",
       "2700         0         0       0           0          0         0     0   \n",
       "\n",
       "      your brain  your life  yourself  \n",
       "0              0          0         0  \n",
       "1              0          0         0  \n",
       "2              0          0         0  \n",
       "3              0          0         0  \n",
       "4              0          0         0  \n",
       "...          ...        ...       ...  \n",
       "2696           0          0         0  \n",
       "2697           0          0         0  \n",
       "2698           0          0         0  \n",
       "2699           0          0         0  \n",
       "2700           0          0         0  \n",
       "\n",
       "[2701 rows x 337 columns]"
      ]
     },
     "execution_count": 80,
     "metadata": {},
     "output_type": "execute_result"
    }
   ],
   "source": [
    "from sklearn.feature_extraction.text import CountVectorizer\n",
    "bow_model=CountVectorizer(ngram_range=(1,3),min_df=10, max_features=100000)\n",
    "bow_model.fit(pd.Series(medium_df[\"title\"]))\n",
    "titles_bow=bow_model.transform(medium_df[\"title\"])\n",
    "title_bow_df=pd.DataFrame(titles_bow.toarray(),columns=bow_model.get_feature_names())\n",
    "title_bow_df"
   ]
  },
  {
   "cell_type": "code",
   "execution_count": 81,
   "metadata": {},
   "outputs": [
    {
     "data": {
      "text/html": [
       "<div>\n",
       "<style scoped>\n",
       "    .dataframe tbody tr th:only-of-type {\n",
       "        vertical-align: middle;\n",
       "    }\n",
       "\n",
       "    .dataframe tbody tr th {\n",
       "        vertical-align: top;\n",
       "    }\n",
       "\n",
       "    .dataframe thead th {\n",
       "        text-align: right;\n",
       "    }\n",
       "</style>\n",
       "<table border=\"1\" class=\"dataframe\">\n",
       "  <thead>\n",
       "    <tr style=\"text-align: right;\">\n",
       "      <th></th>\n",
       "      <th>title</th>\n",
       "      <th>count</th>\n",
       "    </tr>\n",
       "  </thead>\n",
       "  <tbody>\n",
       "    <tr>\n",
       "      <th>0</th>\n",
       "      <td>000</td>\n",
       "      <td>17</td>\n",
       "    </tr>\n",
       "    <tr>\n",
       "      <th>1</th>\n",
       "      <td>10</td>\n",
       "      <td>33</td>\n",
       "    </tr>\n",
       "    <tr>\n",
       "      <th>2</th>\n",
       "      <td>19</td>\n",
       "      <td>29</td>\n",
       "    </tr>\n",
       "    <tr>\n",
       "      <th>3</th>\n",
       "      <td>2018</td>\n",
       "      <td>18</td>\n",
       "    </tr>\n",
       "    <tr>\n",
       "      <th>4</th>\n",
       "      <td>2019</td>\n",
       "      <td>21</td>\n",
       "    </tr>\n",
       "  </tbody>\n",
       "</table>\n",
       "</div>"
      ],
      "text/plain": [
       "  title  count\n",
       "0   000     17\n",
       "1    10     33\n",
       "2    19     29\n",
       "3  2018     18\n",
       "4  2019     21"
      ]
     },
     "execution_count": 81,
     "metadata": {},
     "output_type": "execute_result"
    }
   ],
   "source": [
    "for i in title_bow_df.columns:\n",
    "    title_bow_df[i]=title_bow_df[i].sum()\n",
    "titles_df=title_bow_df.iloc[:1].transpose().reset_index()\n",
    "titles_df.columns=[\"title\",\"count\"]\n",
    "titles_df.head()"
   ]
  },
  {
   "cell_type": "code",
   "execution_count": 82,
   "metadata": {},
   "outputs": [
    {
     "data": {
      "image/png": "[encoded data removed]",
      "text/plain": [
       "<Figure size 1080x576 with 1 Axes>"
      ]
     },
     "metadata": {
      "needs_background": "light"
     },
     "output_type": "display_data"
    }
   ],
   "source": [
    "titles_df=titles_df.sort_values(\"count\",ascending=False)[:10]\n",
    "plt.figure(figsize=(15,8))\n",
    "sns.barplot(titles_df[\"title\"],titles_df[\"count\"])\n",
    "plt.xticks(rotation=45,fontsize=15)\n",
    "for i,v in  enumerate(titles_df['count']):\n",
    "    plt.text( i-0.2,v+1, str(int(v)), color='black',fontsize=15)"
   ]
  },
  {
   "cell_type": "markdown",
   "metadata": {},
   "source": [
    "### Observations:\n",
    "\n",
    "1. we can see top words in the title are mostly question related, Why, what, how? This makes sense most of the time reader will have the same question on their mind.\n",
    "2. We can observe that in most of the blogs, they used you and your which means that addresing the reader in title itself.\n",
    "2. The idea should be to use a question in the title and answer it through your blog.\n",
    "3. we can keep the length of the title to under 10 words to make it look pact."
   ]
  },
  {
   "cell_type": "markdown",
   "metadata": {},
   "source": [
    "### 1.7.2. Length of the Title"
   ]
  },
  {
   "cell_type": "code",
   "execution_count": 86,
   "metadata": {},
   "outputs": [],
   "source": [
    "title_len=[]\n",
    "for i in medium_df.title:\n",
    "    title_len.append(len(i))"
   ]
  },
  {
   "cell_type": "code",
   "execution_count": 88,
   "metadata": {},
   "outputs": [],
   "source": [
    "medium_df[\"title_length\"]=title_len"
   ]
  },
  {
   "cell_type": "code",
   "execution_count": 95,
   "metadata": {},
   "outputs": [
    {
     "data": {
      "image/png": "[encoded data removed]",
      "text/plain": [
       "<Figure size 432x504 with 1 Axes>"
      ]
     },
     "metadata": {
      "needs_background": "light"
     },
     "output_type": "display_data"
    }
   ],
   "source": [
    "title_length=medium_df[\"title_length\"].describe()[[\"mean\",\"50%\",\"75%\",\"min\",\"max\"]]\n",
    "plt.figure(figsize=(6,7))\n",
    "plt.bar(title_length.keys(),title_length.values)\n",
    "plt.xticks(fontsize=(13))\n",
    "for i,v in  enumerate(title_length.values):\n",
    "    plt.text( i-0.1,v+0.5, str(int(v)), color='black',fontsize=15)"
   ]
  },
  {
   "cell_type": "code",
   "execution_count": 157,
   "metadata": {
    "scrolled": true
   },
   "outputs": [
    {
     "data": {
      "text/plain": [
       "Text(0.5, 0, 'Title Length (in Characters) ')"
      ]
     },
     "execution_count": 157,
     "metadata": {},
     "output_type": "execute_result"
    },
    {
     "data": {
      "image/png": "[encoded data removed]",
      "text/plain": [
       "<Figure size 720x360 with 1 Axes>"
      ]
     },
     "metadata": {
      "needs_background": "light"
     },
     "output_type": "display_data"
    }
   ],
   "source": [
    "plt.figure(figsize=(10,5))\n",
    "kwargs = {'cumulative': True}\n",
    "sns.distplot(medium_df.title_length, hist_kws=kwargs, kde_kws=kwargs)\n",
    "plt.ylabel(\"Percentiles\",fontsize=15)\n",
    "plt.xlabel(\"Title Length (in Characters) \",fontsize=15)"
   ]
  },
  {
   "cell_type": "code",
   "execution_count": 147,
   "metadata": {},
   "outputs": [],
   "source": [
    "import numpy as np\n",
    "quantiles={}\n",
    "for i in [0,0.1,0.2,.3,.4,.5,.6,.7,.8,.9,1]:\n",
    "    quantiles[str(i*100)]=medium_df[\"title_length\"].quantile(i)"
   ]
  },
  {
   "cell_type": "code",
   "execution_count": 148,
   "metadata": {},
   "outputs": [
    {
     "data": {
      "text/plain": [
       "<BarContainer object of 11 artists>"
      ]
     },
     "execution_count": 148,
     "metadata": {},
     "output_type": "execute_result"
    },
    {
     "data": {
      "image/png": "[encoded data removed]",
      "text/plain": [
       "<Figure size 432x288 with 1 Axes>"
      ]
     },
     "metadata": {
      "needs_background": "light"
     },
     "output_type": "display_data"
    }
   ],
   "source": [
    "plt.bar(quantiles.keys(),quantiles.values())"
   ]
  },
  {
   "cell_type": "markdown",
   "metadata": {},
   "source": [
    "#### Observations:\n",
    "1. It is observed that more than 90% of the titles in our data are less than 65 charcters"
   ]
  }
 ],
 "metadata": {
  "kernelspec": {
   "display_name": "Python 3",
   "language": "python",
   "name": "python3"
  },
  "language_info": {
   "codemirror_mode": {
    "name": "ipython",
    "version": 3
   },
   "file_extension": ".py",
   "mimetype": "text/x-python",
   "name": "python",
   "nbconvert_exporter": "python",
   "pygments_lexer": "ipython3",
   "version": "3.7.6"
  }
 },
 "nbformat": 4,
 "nbformat_minor": 4
}
